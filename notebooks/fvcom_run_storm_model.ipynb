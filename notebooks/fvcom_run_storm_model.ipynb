{
 "cells": [
  {
   "cell_type": "markdown",
   "id": "6a527756-85da-4265-a5e6-c21cf16328f5",
   "metadata": {},
   "source": [
    "# Creating parametric and ERA typhoon model netcdf\n",
    "**Author: Jun Sasaki coded on April 23, 2023, updated on April 23, 2023** <br>\n",
    "Reading typhoon track data or ERA reanalysis data and creating atmospheric pressure and wind data in netcdf that can be read in FVCOM4\n",
    "## Requirements\n",
    "- [PyFVCOM](https://github.com/jsasaki-utokyo/pyfvcom) and [besttracks](https://github.com/jsasaki-utokyo/besttracks)\n",
    "- netCDF4, numpy, cftime, pyproj, pandas, dateutil.parser\n",
    "## Usage\n",
    "```python\n",
    "from besttracks import fvcom as sm\n",
    "f_besttrack = \"/home/teem/besttracks/data/jma_rsmc/bst_all.txt\"  # path for besttrack data \n",
    "ID = '201919' # typhoon ID number\n",
    "era_uv_nc = \"era5_10u10v_201910041014.nc\"  # Input ERA5 uv velocity netcdf\n",
    "era_sp_nc = \"era5_sp_201910041014.nc\"  # Input ERA5 suface pressure netcdf\n",
    "# Create Hybrid model netcdf integrating ERA and parametric models\n",
    "sm.create_storm_models(casename, f_besttrack=f_besttrack, ID=ID, era_uv_nc=era_uv_nc, era_sp_nc=era_sp_nc)\n",
    "# Create parametric model netcdf\n",
    "sm.create_storm_models(casename, type='PARAMETRIC', f_besttrack=f_besttrack, ID=ID)\n",
    "# create ERA model netcdf\n",
    "sm.create_storm_models(casename, type='ERA', era_uv_nc=era_uv_nc, era_sp_nc=era_sp_nc)\n",
    "```"
   ]
  },
  {
   "cell_type": "code",
   "execution_count": null,
   "id": "b6025bdb-3757-435a-921b-79e0965cca66",
   "metadata": {},
   "outputs": [],
   "source": [
    "from besttracks import fvcom as sm\n",
    "#import netCDF4\n",
    "#from cftime import num2date, date2num\n",
    "#from dateutil.parser import parse"
   ]
  },
  {
   "cell_type": "markdown",
   "id": "3d3f5d14-34fc-48d2-b44c-ac9fc5a645d5",
   "metadata": {},
   "source": [
    "### Specify besttrack data"
   ]
  },
  {
   "cell_type": "code",
   "execution_count": null,
   "id": "42b369d6-24da-4804-b903-576d72d25c2b",
   "metadata": {},
   "outputs": [],
   "source": [
    "f_besttrack = \"/home/teem/Github/besttracks/data/jma_rsmc/bst_all.txt\" "
   ]
  },
  {
   "cell_type": "markdown",
   "id": "795745f1-f769-45c6-af53-8bd2f8e4ddc7",
   "metadata": {},
   "source": [
    "### Creating three FVCOM input netcdf files by specifying a typhoon ID and ERA wind and surface pressure data "
   ]
  },
  {
   "cell_type": "code",
   "execution_count": null,
   "id": "53279dce-bcc3-4be6-9c25-cb8ba3d60c9b",
   "metadata": {},
   "outputs": [],
   "source": [
    "casename = \"tb_futtsu\"\n",
    "#f_besttrack = \"/home/teem/Github/besttracks/data/jma_rsmc/bst_all.txt\" \n",
    "ID = '201919'\n",
    "era_uv_nc = \"era5_10u10v_201910041014.nc\"\n",
    "era_sp_nc = \"era5_sp_201910041014.nc\"\n",
    "sm.create_storm_models(casename, f_besttrack=f_besttrack, ID=ID, era_uv_nc=era_uv_nc, era_sp_nc=era_sp_nc)\n",
    "sm.create_storm_models(casename, type='PARAMETRIC', f_besttrack=f_besttrack, ID=ID)\n",
    "sm.create_storm_models(casename, type='ERA', era_uv_nc=era_uv_nc, era_sp_nc=era_sp_nc)"
   ]
  }
 ],
 "metadata": {
  "kernelspec": {
   "display_name": "Python 3 (ipykernel)",
   "language": "python",
   "name": "python3"
  },
  "language_info": {
   "codemirror_mode": {
    "name": "ipython",
    "version": 3
   },
   "file_extension": ".py",
   "mimetype": "text/x-python",
   "name": "python",
   "nbconvert_exporter": "python",
   "pygments_lexer": "ipython3",
   "version": "3.10.10"
  }
 },
 "nbformat": 4,
 "nbformat_minor": 5
}
